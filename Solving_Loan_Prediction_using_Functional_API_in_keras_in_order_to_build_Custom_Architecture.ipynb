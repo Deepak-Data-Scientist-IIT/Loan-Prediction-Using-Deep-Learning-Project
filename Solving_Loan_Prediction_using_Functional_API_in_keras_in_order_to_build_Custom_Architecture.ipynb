{
  "nbformat": 4,
  "nbformat_minor": 0,
  "metadata": {
    "colab": {
      "name": "Solving Loan Prediction using  Functional API in keras in order to build Custom Architecture.ipynb",
      "provenance": [],
      "authorship_tag": "ABX9TyPQDd9AnqpPK3lHoleTew7g",
      "include_colab_link": true
    },
    "kernelspec": {
      "name": "python3",
      "display_name": "Python 3"
    }
  },
  "cells": [
    {
      "cell_type": "markdown",
      "metadata": {
        "id": "view-in-github",
        "colab_type": "text"
      },
      "source": [
        "<a href=\"https://colab.research.google.com/github/Deepak-Data-Scientist-IIT/Solving-Loan-Prediction-using-Functional-API-to-build-with-Custom-Architecture-in-keras-/blob/master/Solving_Loan_Prediction_using_Functional_API_in_keras_in_order_to_build_Custom_Architecture.ipynb\" target=\"_parent\"><img src=\"https://colab.research.google.com/assets/colab-badge.svg\" alt=\"Open In Colab\"/></a>"
      ]
    },
    {
      "cell_type": "markdown",
      "metadata": {
        "id": "n-TodyNWi2cv",
        "colab_type": "text"
      },
      "source": [
        "# **Loading the Dataset**"
      ]
    },
    {
      "cell_type": "code",
      "metadata": {
        "id": "4TKFi5Ujir0N",
        "colab_type": "code",
        "colab": {}
      },
      "source": [
        "# Importing Required Libraries\n",
        "import pandas as pd\n",
        "import numpy as np\n",
        "import sklearn\n",
        "from sklearn.model_selection import train_test_split\n",
        "from sklearn.metrics import accuracy_score\n",
        "import matplotlib.pyplot as plt\n",
        "%matplotlib inline"
      ],
      "execution_count": 2,
      "outputs": []
    },
    {
      "cell_type": "code",
      "metadata": {
        "id": "CNY7nhRvisjA",
        "colab_type": "code",
        "colab": {}
      },
      "source": [
        "# Load the preprocessed dataset Loan_prediction\n",
        "data= pd.read_csv('Loan_prediction_data.csv')"
      ],
      "execution_count": 3,
      "outputs": []
    },
    {
      "cell_type": "code",
      "metadata": {
        "id": "9dMN3QH_jC52",
        "colab_type": "code",
        "colab": {
          "base_uri": "https://localhost:8080/",
          "height": 222
        },
        "outputId": "d8e0ef4f-154a-4ff7-9483-ee679ba72790"
      },
      "source": [
        "# Looking the first five rows of the dataset\n",
        "data.head()"
      ],
      "execution_count": 4,
      "outputs": [
        {
          "output_type": "execute_result",
          "data": {
            "text/html": [
              "<div>\n",
              "<style scoped>\n",
              "    .dataframe tbody tr th:only-of-type {\n",
              "        vertical-align: middle;\n",
              "    }\n",
              "\n",
              "    .dataframe tbody tr th {\n",
              "        vertical-align: top;\n",
              "    }\n",
              "\n",
              "    .dataframe thead th {\n",
              "        text-align: right;\n",
              "    }\n",
              "</style>\n",
              "<table border=\"1\" class=\"dataframe\">\n",
              "  <thead>\n",
              "    <tr style=\"text-align: right;\">\n",
              "      <th></th>\n",
              "      <th>Loan_ID</th>\n",
              "      <th>Gender</th>\n",
              "      <th>Married</th>\n",
              "      <th>Dependents</th>\n",
              "      <th>Education</th>\n",
              "      <th>Self_Employed</th>\n",
              "      <th>ApplicantIncome</th>\n",
              "      <th>CoapplicantIncome</th>\n",
              "      <th>LoanAmount</th>\n",
              "      <th>Loan_Amount_Term</th>\n",
              "      <th>Credit_History</th>\n",
              "      <th>Property_Area</th>\n",
              "      <th>Loan_Status</th>\n",
              "    </tr>\n",
              "  </thead>\n",
              "  <tbody>\n",
              "    <tr>\n",
              "      <th>0</th>\n",
              "      <td>LP001002</td>\n",
              "      <td>0.0</td>\n",
              "      <td>0.0</td>\n",
              "      <td>0.000000</td>\n",
              "      <td>0.0</td>\n",
              "      <td>0.0</td>\n",
              "      <td>0.070489</td>\n",
              "      <td>0.000000</td>\n",
              "      <td>0.198860</td>\n",
              "      <td>0.74359</td>\n",
              "      <td>1.0</td>\n",
              "      <td>1.0</td>\n",
              "      <td>1.0</td>\n",
              "    </tr>\n",
              "    <tr>\n",
              "      <th>1</th>\n",
              "      <td>LP001003</td>\n",
              "      <td>0.0</td>\n",
              "      <td>1.0</td>\n",
              "      <td>0.333333</td>\n",
              "      <td>0.0</td>\n",
              "      <td>0.0</td>\n",
              "      <td>0.054830</td>\n",
              "      <td>0.036192</td>\n",
              "      <td>0.172214</td>\n",
              "      <td>0.74359</td>\n",
              "      <td>1.0</td>\n",
              "      <td>0.0</td>\n",
              "      <td>0.0</td>\n",
              "    </tr>\n",
              "    <tr>\n",
              "      <th>2</th>\n",
              "      <td>LP001005</td>\n",
              "      <td>0.0</td>\n",
              "      <td>1.0</td>\n",
              "      <td>0.000000</td>\n",
              "      <td>0.0</td>\n",
              "      <td>1.0</td>\n",
              "      <td>0.035250</td>\n",
              "      <td>0.000000</td>\n",
              "      <td>0.082489</td>\n",
              "      <td>0.74359</td>\n",
              "      <td>1.0</td>\n",
              "      <td>1.0</td>\n",
              "      <td>1.0</td>\n",
              "    </tr>\n",
              "    <tr>\n",
              "      <th>3</th>\n",
              "      <td>LP001006</td>\n",
              "      <td>0.0</td>\n",
              "      <td>1.0</td>\n",
              "      <td>0.000000</td>\n",
              "      <td>1.0</td>\n",
              "      <td>0.0</td>\n",
              "      <td>0.030093</td>\n",
              "      <td>0.056592</td>\n",
              "      <td>0.160637</td>\n",
              "      <td>0.74359</td>\n",
              "      <td>1.0</td>\n",
              "      <td>1.0</td>\n",
              "      <td>1.0</td>\n",
              "    </tr>\n",
              "    <tr>\n",
              "      <th>4</th>\n",
              "      <td>LP001008</td>\n",
              "      <td>0.0</td>\n",
              "      <td>0.0</td>\n",
              "      <td>0.000000</td>\n",
              "      <td>0.0</td>\n",
              "      <td>0.0</td>\n",
              "      <td>0.072356</td>\n",
              "      <td>0.000000</td>\n",
              "      <td>0.191027</td>\n",
              "      <td>0.74359</td>\n",
              "      <td>1.0</td>\n",
              "      <td>1.0</td>\n",
              "      <td>1.0</td>\n",
              "    </tr>\n",
              "  </tbody>\n",
              "</table>\n",
              "</div>"
            ],
            "text/plain": [
              "    Loan_ID  Gender  Married  ...  Credit_History  Property_Area  Loan_Status\n",
              "0  LP001002     0.0      0.0  ...             1.0            1.0          1.0\n",
              "1  LP001003     0.0      1.0  ...             1.0            0.0          0.0\n",
              "2  LP001005     0.0      1.0  ...             1.0            1.0          1.0\n",
              "3  LP001006     0.0      1.0  ...             1.0            1.0          1.0\n",
              "4  LP001008     0.0      0.0  ...             1.0            1.0          1.0\n",
              "\n",
              "[5 rows x 13 columns]"
            ]
          },
          "metadata": {
            "tags": []
          },
          "execution_count": 4
        }
      ]
    },
    {
      "cell_type": "code",
      "metadata": {
        "id": "MM7DwwBvjEs1",
        "colab_type": "code",
        "colab": {}
      },
      "source": [
        "# Removing the Loan_ID since these are just the unique value\n",
        "data = data.drop('Loan_ID', axis=1)"
      ],
      "execution_count": 5,
      "outputs": []
    },
    {
      "cell_type": "code",
      "metadata": {
        "id": "UJ6Oo8AtjK52",
        "colab_type": "code",
        "colab": {
          "base_uri": "https://localhost:8080/",
          "height": 35
        },
        "outputId": "beca3e35-c5d2-4745-d415-0ccb884d6794"
      },
      "source": [
        "# Looking the shape of the data\n",
        "data.shape"
      ],
      "execution_count": 6,
      "outputs": [
        {
          "output_type": "execute_result",
          "data": {
            "text/plain": [
              "(614, 12)"
            ]
          },
          "metadata": {
            "tags": []
          },
          "execution_count": 6
        }
      ]
    },
    {
      "cell_type": "code",
      "metadata": {
        "id": "rhtmIIk8jMrB",
        "colab_type": "code",
        "colab": {}
      },
      "source": [
        "# Seprating the independent and dependent variable\n",
        "# Storing all the independent variable as X\n",
        "X = data.drop('Loan_Status', axis=1)\n",
        "\n",
        "# Storing the dependent variable as y\n",
        "y = data['Loan_Status']"
      ],
      "execution_count": 7,
      "outputs": []
    },
    {
      "cell_type": "code",
      "metadata": {
        "id": "zaPIWq_5jazh",
        "colab_type": "code",
        "colab": {
          "base_uri": "https://localhost:8080/",
          "height": 35
        },
        "outputId": "28411b98-8598-4b69-c203-e933bc68eb49"
      },
      "source": [
        "# Shape of independent and dependent variable\n",
        "X.shape, y.shape"
      ],
      "execution_count": 8,
      "outputs": [
        {
          "output_type": "execute_result",
          "data": {
            "text/plain": [
              "((614, 11), (614,))"
            ]
          },
          "metadata": {
            "tags": []
          },
          "execution_count": 8
        }
      ]
    },
    {
      "cell_type": "markdown",
      "metadata": {
        "id": "KOs5fCmyjf1W",
        "colab_type": "text"
      },
      "source": [
        "# **Creating Training and Validation Set**"
      ]
    },
    {
      "cell_type": "code",
      "metadata": {
        "id": "sCw8_3Crjipj",
        "colab_type": "code",
        "colab": {}
      },
      "source": [
        "# Creating training and validation set\n",
        "\n",
        "# Stratify will make sure that the distribution of classes in train and validation set it similar\n",
        "# random state to generate the same train and validation set\n",
        "# test size 0.2 will keep 20% data in validating and 80% in train set\n",
        "\n",
        "X_train, X_test, y_train, y_test= train_test_split(X,y,stratify=data['Loan_Status'], random_state=10,\n",
        "                                                   test_size=0.2)"
      ],
      "execution_count": 9,
      "outputs": []
    },
    {
      "cell_type": "code",
      "metadata": {
        "id": "sjaF_ragjrMy",
        "colab_type": "code",
        "colab": {
          "base_uri": "https://localhost:8080/",
          "height": 35
        },
        "outputId": "90306e9e-4eef-4f48-d20e-04009d186314"
      },
      "source": [
        "# Shape of training and validation set\n",
        "(X_train.shape, y_train.shape), (X_test.shape, y_test.shape)"
      ],
      "execution_count": 10,
      "outputs": [
        {
          "output_type": "execute_result",
          "data": {
            "text/plain": [
              "(((491, 11), (491,)), ((123, 11), (123,)))"
            ]
          },
          "metadata": {
            "tags": []
          },
          "execution_count": 10
        }
      ]
    },
    {
      "cell_type": "markdown",
      "metadata": {
        "id": "zNx8UQ2Dj1cM",
        "colab_type": "text"
      },
      "source": [
        "# **Define the Architecture of the mode**"
      ]
    },
    {
      "cell_type": "code",
      "metadata": {
        "id": "eLeM58Nwj3oN",
        "colab_type": "code",
        "colab": {}
      },
      "source": [
        "# Importing keras\n",
        "import keras\n",
        "import tensorflow as tf\n",
        "# Importing the sequential model\n",
        "from keras.models import Sequential\n",
        "# Importing differnt layers from keras\n",
        "from keras.layers import InputLayer, Dense, concatenate"
      ],
      "execution_count": 11,
      "outputs": []
    },
    {
      "cell_type": "code",
      "metadata": {
        "id": "dUQnalw9kJuG",
        "colab_type": "code",
        "colab": {
          "base_uri": "https://localhost:8080/",
          "height": 35
        },
        "outputId": "c41497fe-10b0-40ad-8ab6-55f77c2e3dda"
      },
      "source": [
        "# Number of input Neurons\n",
        "X_train.shape"
      ],
      "execution_count": 12,
      "outputs": [
        {
          "output_type": "execute_result",
          "data": {
            "text/plain": [
              "(491, 11)"
            ]
          },
          "metadata": {
            "tags": []
          },
          "execution_count": 12
        }
      ]
    },
    {
      "cell_type": "code",
      "metadata": {
        "id": "ojsza5M9kLQm",
        "colab_type": "code",
        "colab": {
          "base_uri": "https://localhost:8080/",
          "height": 35
        },
        "outputId": "224fd2e4-1645-4b2b-91eb-c92391ded07b"
      },
      "source": [
        "# Number of feature in the data\n",
        "X_train.shape[1]"
      ],
      "execution_count": 13,
      "outputs": [
        {
          "output_type": "execute_result",
          "data": {
            "text/plain": [
              "11"
            ]
          },
          "metadata": {
            "tags": []
          },
          "execution_count": 13
        }
      ]
    },
    {
      "cell_type": "code",
      "metadata": {
        "id": "VVRSEFLOkOw8",
        "colab_type": "code",
        "colab": {}
      },
      "source": [
        "# Defininng the input neurons\n",
        "input_neurons= X_train.shape[1]\n",
        "\n",
        "# Define number of output neurons\n",
        "output_neurons = 1"
      ],
      "execution_count": 14,
      "outputs": []
    },
    {
      "cell_type": "code",
      "metadata": {
        "id": "K7wXhbn7kXqC",
        "colab_type": "code",
        "colab": {}
      },
      "source": [
        "# Define hidden layer and neurons in each layer\n",
        "number_of_hidden_layers = 2\n",
        "neuron_hidden_layer_1_1 = 10\n",
        "neuron_hidden_layer_1_2 = 20\n",
        "neuron_hidden_layer_2 = 5"
      ],
      "execution_count": 15,
      "outputs": []
    },
    {
      "cell_type": "code",
      "metadata": {
        "id": "Lvm3VjQamlg2",
        "colab_type": "code",
        "colab": {}
      },
      "source": [
        "from keras import Input, Model"
      ],
      "execution_count": 17,
      "outputs": []
    },
    {
      "cell_type": "code",
      "metadata": {
        "id": "6VUiEb1akzM4",
        "colab_type": "code",
        "colab": {}
      },
      "source": [
        "# Defining the architecture of the model using Functional API\n",
        "x= Input(shape = (input_neurons,))\n",
        "hidden1_1 = Dense(units=neuron_hidden_layer_1_1, activation='relu')(x)\n",
        "hidden1_2 = Dense(units=neuron_hidden_layer_1_2, activation='relu')(x)\n",
        "\n",
        "combined = concatenate([hidden1_1, hidden1_2])\n",
        "\n",
        "hidden2 = Dense(units=neuron_hidden_layer_2, activation='relu')(combined)\n",
        "output =  Dense(units=output_neurons, activation='sigmoid')(hidden2)\n",
        "\n",
        "model_functional = Model(x, output)"
      ],
      "execution_count": 18,
      "outputs": []
    },
    {
      "cell_type": "code",
      "metadata": {
        "id": "CQ-JV7xnmoTN",
        "colab_type": "code",
        "colab": {
          "base_uri": "https://localhost:8080/",
          "height": 381
        },
        "outputId": "778e81e1-5bb2-4a67-d8eb-0096fa1172cb"
      },
      "source": [
        "# Summary of the model\n",
        "model_functional.summary()"
      ],
      "execution_count": 19,
      "outputs": [
        {
          "output_type": "stream",
          "text": [
            "Model: \"functional_1\"\n",
            "__________________________________________________________________________________________________\n",
            "Layer (type)                    Output Shape         Param #     Connected to                     \n",
            "==================================================================================================\n",
            "input_1 (InputLayer)            [(None, 11)]         0                                            \n",
            "__________________________________________________________________________________________________\n",
            "dense (Dense)                   (None, 10)           120         input_1[0][0]                    \n",
            "__________________________________________________________________________________________________\n",
            "dense_1 (Dense)                 (None, 20)           240         input_1[0][0]                    \n",
            "__________________________________________________________________________________________________\n",
            "concatenate (Concatenate)       (None, 30)           0           dense[0][0]                      \n",
            "                                                                 dense_1[0][0]                    \n",
            "__________________________________________________________________________________________________\n",
            "dense_2 (Dense)                 (None, 5)            155         concatenate[0][0]                \n",
            "__________________________________________________________________________________________________\n",
            "dense_3 (Dense)                 (None, 1)            6           dense_2[0][0]                    \n",
            "==================================================================================================\n",
            "Total params: 521\n",
            "Trainable params: 521\n",
            "Non-trainable params: 0\n",
            "__________________________________________________________________________________________________\n"
          ],
          "name": "stdout"
        }
      ]
    },
    {
      "cell_type": "markdown",
      "metadata": {
        "id": "K8OTcX2bnjQx",
        "colab_type": "text"
      },
      "source": [
        "# **Compiling the model(Defining loss function, optimizers)**\n"
      ]
    },
    {
      "cell_type": "code",
      "metadata": {
        "id": "N1qVwlMunlwV",
        "colab_type": "code",
        "colab": {}
      },
      "source": [
        "# compiling the model\n",
        "\n",
        "# loss as binary_crossentropy, since we have binary classification problem\n",
        "# defining the optimizers as adam\n",
        "# Evaluation metric as accuracy\n",
        "model_functional.compile(loss='binary_crossentropy', optimizer='adam', metrics=['accuracy'])"
      ],
      "execution_count": 20,
      "outputs": []
    },
    {
      "cell_type": "markdown",
      "metadata": {
        "id": "bmO5MvjrntDc",
        "colab_type": "text"
      },
      "source": [
        "# **Training the model**"
      ]
    },
    {
      "cell_type": "code",
      "metadata": {
        "id": "C7qOAyMlnwi7",
        "colab_type": "code",
        "colab": {
          "base_uri": "https://localhost:8080/",
          "height": 1000
        },
        "outputId": "fecee053-cf92-49df-caec-81e33ac0c0ce"
      },
      "source": [
        "# Training the model\n",
        "# passing the independent and dependent features for training set for training the model\n",
        "# validation data will be evaluated at the end of the each epoch \n",
        "# setting the epoch as 50\n",
        "# Storing the training model in model_history which will be used to visualize the training process\n",
        "model_history= model_functional.fit(X_train, y_train, validation_data=(X_test, y_test), epochs=50)"
      ],
      "execution_count": 21,
      "outputs": [
        {
          "output_type": "stream",
          "text": [
            "Epoch 1/50\n",
            "16/16 [==============================] - 0s 12ms/step - loss: 0.6826 - accuracy: 0.6334 - val_loss: 0.6730 - val_accuracy: 0.6423\n",
            "Epoch 2/50\n",
            "16/16 [==============================] - 0s 2ms/step - loss: 0.6575 - accuracy: 0.6558 - val_loss: 0.6509 - val_accuracy: 0.6667\n",
            "Epoch 3/50\n",
            "16/16 [==============================] - 0s 2ms/step - loss: 0.6380 - accuracy: 0.6986 - val_loss: 0.6319 - val_accuracy: 0.7073\n",
            "Epoch 4/50\n",
            "16/16 [==============================] - 0s 2ms/step - loss: 0.6221 - accuracy: 0.7128 - val_loss: 0.6165 - val_accuracy: 0.6992\n",
            "Epoch 5/50\n",
            "16/16 [==============================] - 0s 2ms/step - loss: 0.6070 - accuracy: 0.7067 - val_loss: 0.6026 - val_accuracy: 0.6992\n",
            "Epoch 6/50\n",
            "16/16 [==============================] - 0s 3ms/step - loss: 0.5952 - accuracy: 0.7088 - val_loss: 0.5890 - val_accuracy: 0.6992\n",
            "Epoch 7/50\n",
            "16/16 [==============================] - 0s 2ms/step - loss: 0.5839 - accuracy: 0.7108 - val_loss: 0.5788 - val_accuracy: 0.7154\n",
            "Epoch 8/50\n",
            "16/16 [==============================] - 0s 2ms/step - loss: 0.5745 - accuracy: 0.7128 - val_loss: 0.5698 - val_accuracy: 0.7154\n",
            "Epoch 9/50\n",
            "16/16 [==============================] - 0s 3ms/step - loss: 0.5646 - accuracy: 0.7230 - val_loss: 0.5622 - val_accuracy: 0.7154\n",
            "Epoch 10/50\n",
            "16/16 [==============================] - 0s 3ms/step - loss: 0.5544 - accuracy: 0.7454 - val_loss: 0.5549 - val_accuracy: 0.7480\n",
            "Epoch 11/50\n",
            "16/16 [==============================] - 0s 2ms/step - loss: 0.5455 - accuracy: 0.7699 - val_loss: 0.5481 - val_accuracy: 0.7480\n",
            "Epoch 12/50\n",
            "16/16 [==============================] - 0s 3ms/step - loss: 0.5365 - accuracy: 0.7943 - val_loss: 0.5425 - val_accuracy: 0.7886\n",
            "Epoch 13/50\n",
            "16/16 [==============================] - 0s 3ms/step - loss: 0.5282 - accuracy: 0.7963 - val_loss: 0.5365 - val_accuracy: 0.7967\n",
            "Epoch 14/50\n",
            "16/16 [==============================] - 0s 3ms/step - loss: 0.5212 - accuracy: 0.7984 - val_loss: 0.5300 - val_accuracy: 0.7967\n",
            "Epoch 15/50\n",
            "16/16 [==============================] - 0s 3ms/step - loss: 0.5141 - accuracy: 0.8045 - val_loss: 0.5249 - val_accuracy: 0.8049\n",
            "Epoch 16/50\n",
            "16/16 [==============================] - 0s 3ms/step - loss: 0.5075 - accuracy: 0.8086 - val_loss: 0.5215 - val_accuracy: 0.8049\n",
            "Epoch 17/50\n",
            "16/16 [==============================] - 0s 3ms/step - loss: 0.5023 - accuracy: 0.8086 - val_loss: 0.5181 - val_accuracy: 0.8049\n",
            "Epoch 18/50\n",
            "16/16 [==============================] - 0s 3ms/step - loss: 0.4975 - accuracy: 0.8086 - val_loss: 0.5135 - val_accuracy: 0.8049\n",
            "Epoch 19/50\n",
            "16/16 [==============================] - 0s 3ms/step - loss: 0.4922 - accuracy: 0.8086 - val_loss: 0.5117 - val_accuracy: 0.8130\n",
            "Epoch 20/50\n",
            "16/16 [==============================] - 0s 3ms/step - loss: 0.4876 - accuracy: 0.8086 - val_loss: 0.5073 - val_accuracy: 0.8130\n",
            "Epoch 21/50\n",
            "16/16 [==============================] - 0s 3ms/step - loss: 0.4840 - accuracy: 0.8086 - val_loss: 0.5035 - val_accuracy: 0.8130\n",
            "Epoch 22/50\n",
            "16/16 [==============================] - 0s 3ms/step - loss: 0.4809 - accuracy: 0.8086 - val_loss: 0.5007 - val_accuracy: 0.8130\n",
            "Epoch 23/50\n",
            "16/16 [==============================] - 0s 3ms/step - loss: 0.4772 - accuracy: 0.8086 - val_loss: 0.4995 - val_accuracy: 0.8130\n",
            "Epoch 24/50\n",
            "16/16 [==============================] - 0s 3ms/step - loss: 0.4761 - accuracy: 0.8086 - val_loss: 0.4981 - val_accuracy: 0.8130\n",
            "Epoch 25/50\n",
            "16/16 [==============================] - 0s 3ms/step - loss: 0.4718 - accuracy: 0.8086 - val_loss: 0.4937 - val_accuracy: 0.8130\n",
            "Epoch 26/50\n",
            "16/16 [==============================] - 0s 3ms/step - loss: 0.4712 - accuracy: 0.8086 - val_loss: 0.4928 - val_accuracy: 0.8130\n",
            "Epoch 27/50\n",
            "16/16 [==============================] - 0s 3ms/step - loss: 0.4697 - accuracy: 0.8086 - val_loss: 0.4933 - val_accuracy: 0.8130\n",
            "Epoch 28/50\n",
            "16/16 [==============================] - 0s 3ms/step - loss: 0.4686 - accuracy: 0.8086 - val_loss: 0.4911 - val_accuracy: 0.8130\n",
            "Epoch 29/50\n",
            "16/16 [==============================] - 0s 3ms/step - loss: 0.4687 - accuracy: 0.8106 - val_loss: 0.4921 - val_accuracy: 0.8130\n",
            "Epoch 30/50\n",
            "16/16 [==============================] - 0s 3ms/step - loss: 0.4655 - accuracy: 0.8106 - val_loss: 0.4894 - val_accuracy: 0.8130\n",
            "Epoch 31/50\n",
            "16/16 [==============================] - 0s 3ms/step - loss: 0.4643 - accuracy: 0.8106 - val_loss: 0.4903 - val_accuracy: 0.8130\n",
            "Epoch 32/50\n",
            "16/16 [==============================] - 0s 3ms/step - loss: 0.4644 - accuracy: 0.8106 - val_loss: 0.4878 - val_accuracy: 0.8130\n",
            "Epoch 33/50\n",
            "16/16 [==============================] - 0s 3ms/step - loss: 0.4623 - accuracy: 0.8106 - val_loss: 0.4897 - val_accuracy: 0.8130\n",
            "Epoch 34/50\n",
            "16/16 [==============================] - 0s 3ms/step - loss: 0.4615 - accuracy: 0.8106 - val_loss: 0.4870 - val_accuracy: 0.8130\n",
            "Epoch 35/50\n",
            "16/16 [==============================] - 0s 3ms/step - loss: 0.4601 - accuracy: 0.8106 - val_loss: 0.4869 - val_accuracy: 0.8130\n",
            "Epoch 36/50\n",
            "16/16 [==============================] - 0s 3ms/step - loss: 0.4598 - accuracy: 0.8106 - val_loss: 0.4874 - val_accuracy: 0.8130\n",
            "Epoch 37/50\n",
            "16/16 [==============================] - 0s 4ms/step - loss: 0.4601 - accuracy: 0.8106 - val_loss: 0.4861 - val_accuracy: 0.8130\n",
            "Epoch 38/50\n",
            "16/16 [==============================] - 0s 3ms/step - loss: 0.4585 - accuracy: 0.8106 - val_loss: 0.4861 - val_accuracy: 0.8130\n",
            "Epoch 39/50\n",
            "16/16 [==============================] - 0s 3ms/step - loss: 0.4582 - accuracy: 0.8126 - val_loss: 0.4877 - val_accuracy: 0.8130\n",
            "Epoch 40/50\n",
            "16/16 [==============================] - 0s 3ms/step - loss: 0.4577 - accuracy: 0.8126 - val_loss: 0.4866 - val_accuracy: 0.8130\n",
            "Epoch 41/50\n",
            "16/16 [==============================] - 0s 3ms/step - loss: 0.4566 - accuracy: 0.8126 - val_loss: 0.4870 - val_accuracy: 0.8130\n",
            "Epoch 42/50\n",
            "16/16 [==============================] - 0s 3ms/step - loss: 0.4558 - accuracy: 0.8126 - val_loss: 0.4861 - val_accuracy: 0.8130\n",
            "Epoch 43/50\n",
            "16/16 [==============================] - 0s 3ms/step - loss: 0.4552 - accuracy: 0.8126 - val_loss: 0.4836 - val_accuracy: 0.8130\n",
            "Epoch 44/50\n",
            "16/16 [==============================] - 0s 3ms/step - loss: 0.4555 - accuracy: 0.8126 - val_loss: 0.4858 - val_accuracy: 0.8130\n",
            "Epoch 45/50\n",
            "16/16 [==============================] - 0s 3ms/step - loss: 0.4547 - accuracy: 0.8126 - val_loss: 0.4858 - val_accuracy: 0.8130\n",
            "Epoch 46/50\n",
            "16/16 [==============================] - 0s 3ms/step - loss: 0.4541 - accuracy: 0.8126 - val_loss: 0.4851 - val_accuracy: 0.8130\n",
            "Epoch 47/50\n",
            "16/16 [==============================] - 0s 3ms/step - loss: 0.4546 - accuracy: 0.8126 - val_loss: 0.4841 - val_accuracy: 0.8130\n",
            "Epoch 48/50\n",
            "16/16 [==============================] - 0s 3ms/step - loss: 0.4520 - accuracy: 0.8126 - val_loss: 0.4884 - val_accuracy: 0.8130\n",
            "Epoch 49/50\n",
            "16/16 [==============================] - 0s 3ms/step - loss: 0.4529 - accuracy: 0.8126 - val_loss: 0.4868 - val_accuracy: 0.8130\n",
            "Epoch 50/50\n",
            "16/16 [==============================] - 0s 3ms/step - loss: 0.4519 - accuracy: 0.8126 - val_loss: 0.4858 - val_accuracy: 0.8130\n"
          ],
          "name": "stdout"
        }
      ]
    },
    {
      "cell_type": "markdown",
      "metadata": {
        "id": "PNDDofuloAM1",
        "colab_type": "text"
      },
      "source": [
        "# **Evaluating model performance on validation set**"
      ]
    },
    {
      "cell_type": "code",
      "metadata": {
        "id": "TCCDcGxWoEiA",
        "colab_type": "code",
        "colab": {}
      },
      "source": [
        "# getting prediction for the validation set\n",
        "prediction = model_functional.predict(X_test)"
      ],
      "execution_count": 22,
      "outputs": []
    },
    {
      "cell_type": "code",
      "metadata": {
        "id": "2UelcIypoJpw",
        "colab_type": "code",
        "colab": {}
      },
      "source": [
        "prediction = prediction.reshape(123,)\n",
        "\n",
        "# Converting probabilites to classes\n",
        "prediction_int = prediction >= 0.5\n",
        "prediction_int = prediction_int.astype(np.int) "
      ],
      "execution_count": 23,
      "outputs": []
    },
    {
      "cell_type": "code",
      "metadata": {
        "id": "3QNsXGaeoPiZ",
        "colab_type": "code",
        "colab": {
          "base_uri": "https://localhost:8080/",
          "height": 35
        },
        "outputId": "0328f93f-2e60-4fe3-dd2f-c96886450522"
      },
      "source": [
        "# calculating the accuracy on validation set\n",
        "accuracy_score(y_test, prediction_int)"
      ],
      "execution_count": 24,
      "outputs": [
        {
          "output_type": "execute_result",
          "data": {
            "text/plain": [
              "0.8130081300813008"
            ]
          },
          "metadata": {
            "tags": []
          },
          "execution_count": 24
        }
      ]
    },
    {
      "cell_type": "markdown",
      "metadata": {
        "id": "N09aET7uoSKT",
        "colab_type": "text"
      },
      "source": [
        "# **Visualising the model performance**"
      ]
    },
    {
      "cell_type": "code",
      "metadata": {
        "id": "ixFqaAJ-oWCB",
        "colab_type": "code",
        "colab": {
          "base_uri": "https://localhost:8080/",
          "height": 295
        },
        "outputId": "b931e0bf-0284-4bf5-a617-64ab2a7c3f90"
      },
      "source": [
        "# Summarize history for loss\n",
        "plt.plot(model_history.history['loss'])\n",
        "plt.plot(model_history.history['val_loss'])\n",
        "plt.title('model loss')\n",
        "plt.ylabel('loss')\n",
        "plt.xlabel('epoch')\n",
        "plt.legend(['train', 'validation'], loc = 'upper left')\n",
        "plt.show()"
      ],
      "execution_count": 25,
      "outputs": [
        {
          "output_type": "display_data",
          "data": {
            "image/png": "[encoded data removed]",
            "text/plain": [
              "<Figure size 432x288 with 1 Axes>"
            ]
          },
          "metadata": {
            "tags": [],
            "needs_background": "light"
          }
        }
      ]
    },
    {
      "cell_type": "code",
      "metadata": {
        "id": "Oegq-lxMohAX",
        "colab_type": "code",
        "colab": {
          "base_uri": "https://localhost:8080/",
          "height": 295
        },
        "outputId": "194bbd9e-7a92-4b10-d5ac-1d9d33b7c410"
      },
      "source": [
        "# Summarize history for accuracy\n",
        "plt.plot(model_history.history['accuracy'])\n",
        "plt.plot(model_history.history['val_accuracy'])\n",
        "plt.title('model accuracy')\n",
        "plt.ylabel('accuracy')\n",
        "plt.xlabel('epoch')\n",
        "plt.legend(['train', 'validation'], loc = 'upper left')\n",
        "plt.show()"
      ],
      "execution_count": 26,
      "outputs": [
        {
          "output_type": "display_data",
          "data": {
            "image/png": "[encoded data removed]",
            "text/plain": [
              "<Figure size 432x288 with 1 Axes>"
            ]
          },
          "metadata": {
            "tags": [],
            "needs_background": "light"
          }
        }
      ]
    }
  ]
}